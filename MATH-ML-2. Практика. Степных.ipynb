{
  "cells": [
    {
      "cell_type": "markdown",
      "id": "b054bd88",
      "metadata": {
        "id": "b054bd88"
      },
      "source": [
        "# <center> Линейная алгебра в контексте линейных методов. Практика.\n",
        "\n",
        "## <center> Прогнозирование выработки газа на скважинах."
      ]
    },
    {
      "cell_type": "markdown",
      "id": "325bc80b",
      "metadata": {
        "id": "325bc80b"
      },
      "source": [
        "## Постановка задачи"
      ]
    },
    {
      "cell_type": "markdown",
      "id": "8247bd54",
      "metadata": {
        "id": "8247bd54"
      },
      "source": [
        "У Василия, основателя компании «Газ-Таз-Ваз-Нефть», дела идут в гору: у него уже функционирует 200 скважин для добычи газа. В этом году он открывает 30 новых скважин. Однако в целях оптимизации расходов и повышения дохода Василию необходимо оценить, сколько денег будет приносить ему каждая из скважин, а также понять, какие факторы (параметры скважин) потенциально сильнее всего повлияют на объём добычи газа. Для этого Василий решил нанять вас как специалиста в области Data Science.\n",
        "\n",
        "Василий представляет вам набор данных о добыче газа на своих скважинах. Файл с данными вы можете скачать на платформе.\n",
        "\n",
        "**Признаки в данных:**\n",
        "\n",
        "* Well — идентификатор скважины;\n",
        "* Por — пористость скважины (%);\n",
        "* Perm — проницаемость скважины;\n",
        "* AI — акустический импеданс ($кг/м^2 * 10^6$);\n",
        "* Brittle — коэффициент хрупкости скважины (%);\n",
        "* TOC — общий органический углерод (%);\n",
        "* VR — коэффициент отражения витринита (%);\n",
        "* Prod — добыча газа в сутки (млн. кубических футов).\n",
        "\n",
        "**Ваша задача** — построить регрессионную модель, которая прогнозирует выработку газа на скважине (целевой признак — Prod) на основе остальных характеристик скважины, и проинтерпретировать результаты вашей модели.\n",
        "\n",
        "Разделим задачу на две части:\n",
        "* В первой мы построим простейшую модель линейной регрессии, проанализируем результаты её работы и выберем наиболее значимые факторы для прогнозирования.\n",
        "* Во второй мы займёмся построением модели полиномиальной регрессии с регуляризацией и посмотрим на итоговые результаты моделирования.\n"
      ]
    },
    {
      "cell_type": "markdown",
      "id": "d67d069e",
      "metadata": {
        "id": "d67d069e"
      },
      "source": [
        "Импортируем необходимые библиотеки:"
      ]
    },
    {
      "cell_type": "code",
      "execution_count": 530,
      "id": "83a555bc-8dff-4b7e-bba1-cd4f4a9e69b2",
      "metadata": {
        "id": "83a555bc-8dff-4b7e-bba1-cd4f4a9e69b2"
      },
      "outputs": [],
      "source": [
        "# Импорт библиотек\n",
        "import numpy as np # для работы с массивами\n",
        "import pandas as pd # для работы с DataFrame \n",
        "import seaborn as sns # библиотека для визуализации статистических данных\n",
        "from sklearn.linear_model import LinearRegression\n",
        "\n",
        "%matplotlib inline"
      ]
    },
    {
      "cell_type": "markdown",
      "id": "e689ddaf",
      "metadata": {
        "id": "e689ddaf"
      },
      "source": [
        "Прочитаем исходные данные:"
      ]
    },
    {
      "cell_type": "code",
      "execution_count": 531,
      "id": "b7b5cd9b-703f-4dbc-a6e3-61d583eafcac",
      "metadata": {
        "colab": {
          "base_uri": "https://localhost:8080/",
          "height": 206
        },
        "id": "b7b5cd9b-703f-4dbc-a6e3-61d583eafcac",
        "outputId": "d4e99a48-2a0d-4edd-f86c-617c44bf36d2"
      },
      "outputs": [
        {
          "data": {
            "text/html": [
              "<div>\n",
              "<style scoped>\n",
              "    .dataframe tbody tr th:only-of-type {\n",
              "        vertical-align: middle;\n",
              "    }\n",
              "\n",
              "    .dataframe tbody tr th {\n",
              "        vertical-align: top;\n",
              "    }\n",
              "\n",
              "    .dataframe thead th {\n",
              "        text-align: right;\n",
              "    }\n",
              "</style>\n",
              "<table border=\"1\" class=\"dataframe\">\n",
              "  <thead>\n",
              "    <tr style=\"text-align: right;\">\n",
              "      <th></th>\n",
              "      <th>Well</th>\n",
              "      <th>Por</th>\n",
              "      <th>Perm</th>\n",
              "      <th>AI</th>\n",
              "      <th>Brittle</th>\n",
              "      <th>TOC</th>\n",
              "      <th>VR</th>\n",
              "      <th>Prod</th>\n",
              "    </tr>\n",
              "  </thead>\n",
              "  <tbody>\n",
              "    <tr>\n",
              "      <th>0</th>\n",
              "      <td>1</td>\n",
              "      <td>12.08</td>\n",
              "      <td>2.92</td>\n",
              "      <td>2.80</td>\n",
              "      <td>81.40</td>\n",
              "      <td>1.16</td>\n",
              "      <td>2.31</td>\n",
              "      <td>4165.196191</td>\n",
              "    </tr>\n",
              "    <tr>\n",
              "      <th>1</th>\n",
              "      <td>2</td>\n",
              "      <td>12.38</td>\n",
              "      <td>3.53</td>\n",
              "      <td>3.22</td>\n",
              "      <td>46.17</td>\n",
              "      <td>0.89</td>\n",
              "      <td>1.88</td>\n",
              "      <td>3561.146205</td>\n",
              "    </tr>\n",
              "    <tr>\n",
              "      <th>2</th>\n",
              "      <td>3</td>\n",
              "      <td>14.02</td>\n",
              "      <td>2.59</td>\n",
              "      <td>4.01</td>\n",
              "      <td>72.80</td>\n",
              "      <td>0.89</td>\n",
              "      <td>2.72</td>\n",
              "      <td>4284.348574</td>\n",
              "    </tr>\n",
              "    <tr>\n",
              "      <th>3</th>\n",
              "      <td>4</td>\n",
              "      <td>17.67</td>\n",
              "      <td>6.75</td>\n",
              "      <td>2.63</td>\n",
              "      <td>39.81</td>\n",
              "      <td>1.08</td>\n",
              "      <td>1.88</td>\n",
              "      <td>5098.680869</td>\n",
              "    </tr>\n",
              "    <tr>\n",
              "      <th>4</th>\n",
              "      <td>5</td>\n",
              "      <td>17.52</td>\n",
              "      <td>4.57</td>\n",
              "      <td>3.18</td>\n",
              "      <td>10.94</td>\n",
              "      <td>1.51</td>\n",
              "      <td>1.90</td>\n",
              "      <td>3406.132832</td>\n",
              "    </tr>\n",
              "  </tbody>\n",
              "</table>\n",
              "</div>"
            ],
            "text/plain": [
              "   Well    Por  Perm    AI  Brittle   TOC    VR         Prod\n",
              "0     1  12.08  2.92  2.80    81.40  1.16  2.31  4165.196191\n",
              "1     2  12.38  3.53  3.22    46.17  0.89  1.88  3561.146205\n",
              "2     3  14.02  2.59  4.01    72.80  0.89  2.72  4284.348574\n",
              "3     4  17.67  6.75  2.63    39.81  1.08  1.88  5098.680869\n",
              "4     5  17.52  4.57  3.18    10.94  1.51  1.90  3406.132832"
            ]
          },
          "execution_count": 531,
          "metadata": {},
          "output_type": "execute_result"
        }
      ],
      "source": [
        "#Загрузка данных из файла csv\n",
        "data = pd.read_csv('unconv.csv')\n",
        "data.head()"
      ]
    },
    {
      "cell_type": "markdown",
      "id": "58639b40",
      "metadata": {
        "id": "58639b40"
      },
      "source": [
        "## Практика: линейная регрессия по методу наименьших квадратов"
      ]
    },
    {
      "cell_type": "markdown",
      "id": "a90535b8",
      "metadata": {
        "id": "a90535b8"
      },
      "source": [
        "Для начала построим простейшую модель линейной регрессии, проанализируем результаты её работы и выберем наиболее значимые факторы для прогнозирования.\n",
        "\n",
        "В первой части вам предстоит выполнить задания 5.0–5.6. Максимальное количество баллов, которое можно получить, — 9."
      ]
    },
    {
      "cell_type": "markdown",
      "id": "4061b706",
      "metadata": {
        "id": "4061b706"
      },
      "source": [
        "### Задание 5.0. (не оценивается)\n",
        "\n",
        "Проведите небольшой разведывательный анализ, чтобы поближе познакомиться с исходными данными. Постройте несколько визуализаций, которые помогут вам понять, как устроены исходные признаки, а также смогут продемонстрировать взаимосвязь факторов. \n",
        "\n",
        "Сделайте промежуточные выводы из проведённого разведывательного анализа."
      ]
    },
    {
      "cell_type": "code",
      "execution_count": 532,
      "id": "56a42ce4",
      "metadata": {},
      "outputs": [
        {
          "name": "stdout",
          "output_type": "stream",
          "text": [
            "<class 'pandas.core.frame.DataFrame'>\n",
            "RangeIndex: 200 entries, 0 to 199\n",
            "Data columns (total 8 columns):\n",
            " #   Column   Non-Null Count  Dtype  \n",
            "---  ------   --------------  -----  \n",
            " 0   Well     200 non-null    int64  \n",
            " 1   Por      200 non-null    float64\n",
            " 2   Perm     200 non-null    float64\n",
            " 3   AI       200 non-null    float64\n",
            " 4   Brittle  200 non-null    float64\n",
            " 5   TOC      200 non-null    float64\n",
            " 6   VR       200 non-null    float64\n",
            " 7   Prod     200 non-null    float64\n",
            "dtypes: float64(7), int64(1)\n",
            "memory usage: 12.6 KB\n"
          ]
        },
        {
          "data": {
            "text/plain": [
              "Well       False\n",
              "Por        False\n",
              "Perm       False\n",
              "AI         False\n",
              "Brittle    False\n",
              "TOC        False\n",
              "VR         False\n",
              "Prod       False\n",
              "dtype: bool"
            ]
          },
          "execution_count": 532,
          "metadata": {},
          "output_type": "execute_result"
        }
      ],
      "source": [
        "#Вывод информации о данных\n",
        "data.info()\n",
        "data.isnull().any()"
      ]
    },
    {
      "cell_type": "code",
      "execution_count": 533,
      "id": "a2415e35",
      "metadata": {},
      "outputs": [
        {
          "data": {
            "text/html": [
              "<div>\n",
              "<style scoped>\n",
              "    .dataframe tbody tr th:only-of-type {\n",
              "        vertical-align: middle;\n",
              "    }\n",
              "\n",
              "    .dataframe tbody tr th {\n",
              "        vertical-align: top;\n",
              "    }\n",
              "\n",
              "    .dataframe thead th {\n",
              "        text-align: right;\n",
              "    }\n",
              "</style>\n",
              "<table border=\"1\" class=\"dataframe\">\n",
              "  <thead>\n",
              "    <tr style=\"text-align: right;\">\n",
              "      <th></th>\n",
              "      <th>Well</th>\n",
              "      <th>Por</th>\n",
              "      <th>Perm</th>\n",
              "      <th>AI</th>\n",
              "      <th>Brittle</th>\n",
              "      <th>TOC</th>\n",
              "      <th>VR</th>\n",
              "      <th>Prod</th>\n",
              "    </tr>\n",
              "  </thead>\n",
              "  <tbody>\n",
              "    <tr>\n",
              "      <th>count</th>\n",
              "      <td>200.000000</td>\n",
              "      <td>200.000000</td>\n",
              "      <td>200.000000</td>\n",
              "      <td>200.000000</td>\n",
              "      <td>200.000000</td>\n",
              "      <td>200.000000</td>\n",
              "      <td>200.000000</td>\n",
              "      <td>200.000000</td>\n",
              "    </tr>\n",
              "    <tr>\n",
              "      <th>mean</th>\n",
              "      <td>100.500000</td>\n",
              "      <td>14.991150</td>\n",
              "      <td>4.330750</td>\n",
              "      <td>2.968850</td>\n",
              "      <td>48.161950</td>\n",
              "      <td>0.990450</td>\n",
              "      <td>1.964300</td>\n",
              "      <td>4311.219852</td>\n",
              "    </tr>\n",
              "    <tr>\n",
              "      <th>std</th>\n",
              "      <td>57.879185</td>\n",
              "      <td>2.971176</td>\n",
              "      <td>1.731014</td>\n",
              "      <td>0.566885</td>\n",
              "      <td>14.129455</td>\n",
              "      <td>0.481588</td>\n",
              "      <td>0.300827</td>\n",
              "      <td>992.038414</td>\n",
              "    </tr>\n",
              "    <tr>\n",
              "      <th>min</th>\n",
              "      <td>1.000000</td>\n",
              "      <td>6.550000</td>\n",
              "      <td>1.130000</td>\n",
              "      <td>1.280000</td>\n",
              "      <td>10.940000</td>\n",
              "      <td>-0.190000</td>\n",
              "      <td>0.930000</td>\n",
              "      <td>2107.139414</td>\n",
              "    </tr>\n",
              "    <tr>\n",
              "      <th>25%</th>\n",
              "      <td>50.750000</td>\n",
              "      <td>12.912500</td>\n",
              "      <td>3.122500</td>\n",
              "      <td>2.547500</td>\n",
              "      <td>37.755000</td>\n",
              "      <td>0.617500</td>\n",
              "      <td>1.770000</td>\n",
              "      <td>3618.064513</td>\n",
              "    </tr>\n",
              "    <tr>\n",
              "      <th>50%</th>\n",
              "      <td>100.500000</td>\n",
              "      <td>15.070000</td>\n",
              "      <td>4.035000</td>\n",
              "      <td>2.955000</td>\n",
              "      <td>49.510000</td>\n",
              "      <td>1.030000</td>\n",
              "      <td>1.960000</td>\n",
              "      <td>4284.687348</td>\n",
              "    </tr>\n",
              "    <tr>\n",
              "      <th>75%</th>\n",
              "      <td>150.250000</td>\n",
              "      <td>17.402500</td>\n",
              "      <td>5.287500</td>\n",
              "      <td>3.345000</td>\n",
              "      <td>58.262500</td>\n",
              "      <td>1.350000</td>\n",
              "      <td>2.142500</td>\n",
              "      <td>5086.089761</td>\n",
              "    </tr>\n",
              "    <tr>\n",
              "      <th>max</th>\n",
              "      <td>200.000000</td>\n",
              "      <td>23.550000</td>\n",
              "      <td>9.870000</td>\n",
              "      <td>4.630000</td>\n",
              "      <td>84.330000</td>\n",
              "      <td>2.180000</td>\n",
              "      <td>2.870000</td>\n",
              "      <td>6662.622385</td>\n",
              "    </tr>\n",
              "  </tbody>\n",
              "</table>\n",
              "</div>"
            ],
            "text/plain": [
              "             Well         Por        Perm          AI     Brittle         TOC  \\\n",
              "count  200.000000  200.000000  200.000000  200.000000  200.000000  200.000000   \n",
              "mean   100.500000   14.991150    4.330750    2.968850   48.161950    0.990450   \n",
              "std     57.879185    2.971176    1.731014    0.566885   14.129455    0.481588   \n",
              "min      1.000000    6.550000    1.130000    1.280000   10.940000   -0.190000   \n",
              "25%     50.750000   12.912500    3.122500    2.547500   37.755000    0.617500   \n",
              "50%    100.500000   15.070000    4.035000    2.955000   49.510000    1.030000   \n",
              "75%    150.250000   17.402500    5.287500    3.345000   58.262500    1.350000   \n",
              "max    200.000000   23.550000    9.870000    4.630000   84.330000    2.180000   \n",
              "\n",
              "               VR         Prod  \n",
              "count  200.000000   200.000000  \n",
              "mean     1.964300  4311.219852  \n",
              "std      0.300827   992.038414  \n",
              "min      0.930000  2107.139414  \n",
              "25%      1.770000  3618.064513  \n",
              "50%      1.960000  4284.687348  \n",
              "75%      2.142500  5086.089761  \n",
              "max      2.870000  6662.622385  "
            ]
          },
          "execution_count": 533,
          "metadata": {},
          "output_type": "execute_result"
        }
      ],
      "source": [
        "data.describe()"
      ]
    },
    {
      "cell_type": "code",
      "execution_count": 534,
      "id": "745c08c9",
      "metadata": {},
      "outputs": [
        {
          "data": {
            "text/plain": [
              "<AxesSubplot: xlabel='Prod', ylabel='VR'>"
            ]
          },
          "execution_count": 534,
          "metadata": {},
          "output_type": "execute_result"
        },
        {
          "data": {
            "image/png": "[encoded data removed]",
            "text/plain": [
              "<Figure size 640x480 with 1 Axes>"
            ]
          },
          "metadata": {},
          "output_type": "display_data"
        },
        {
          "data": {
            "image/png": "[encoded data removed]",
            "text/plain": [
              "<Figure size 640x480 with 1 Axes>"
            ]
          },
          "metadata": {},
          "output_type": "display_data"
        },
        {
          "data": {
            "image/png": "[encoded data removed]",
            "text/plain": [
              "<Figure size 640x480 with 1 Axes>"
            ]
          },
          "metadata": {},
          "output_type": "display_data"
        },
        {
          "data": {
            "image/png": "[encoded data removed]",
            "text/plain": [
              "<Figure size 640x480 with 1 Axes>"
            ]
          },
          "metadata": {},
          "output_type": "display_data"
        },
        {
          "data": {
            "image/png": "[encoded data removed]",
            "text/plain": [
              "<Figure size 640x480 with 1 Axes>"
            ]
          },
          "metadata": {},
          "output_type": "display_data"
        },
        {
          "data": {
            "image/png": "[encoded data removed]",
            "text/plain": [
              "<Figure size 640x480 with 1 Axes>"
            ]
          },
          "metadata": {},
          "output_type": "display_data"
        },
        {
          "data": {
            "image/png": "[encoded data removed]",
            "text/plain": [
              "<Figure size 640x480 with 1 Axes>"
            ]
          },
          "metadata": {},
          "output_type": "display_data"
        }
      ],
      "source": [
        "#Графики распредения значений в зависимости от целевой переменной\n",
        "data.plot(x=\"Prod\", y=\"Well\", kind=\"scatter\")\n",
        "data.plot(x=\"Prod\", y=\"AI\", kind=\"scatter\")\n",
        "data.plot(x=\"Prod\", y=\"Por\", kind=\"scatter\")\n",
        "data.plot(x=\"Prod\", y=\"Perm\", kind=\"scatter\")\n",
        "data.plot(x=\"Prod\", y=\"Brittle\", kind=\"scatter\")\n",
        "data.plot(x=\"Prod\", y=\"TOC\", kind=\"scatter\")\n",
        "data.plot(x=\"Prod\", y=\"VR\", kind=\"scatter\")"
      ]
    },
    {
      "cell_type": "markdown",
      "id": "be7989c1",
      "metadata": {},
      "source": [
        "Выводы: пропуски в данных отсутствуют. На графиках зависимотси представлена зависимости."
      ]
    },
    {
      "cell_type": "markdown",
      "id": "d11cb44f",
      "metadata": {
        "id": "d11cb44f"
      },
      "source": [
        "### Задание 5.1. (2 балла)\n",
        "\n",
        "Постройте корреляционную матрицу факторов, включив в неё целевой признак. \n",
        "\n",
        "Для наглядности визуализируйте полученную матрицу с помощью тепловой карты. \n",
        "\n",
        "**Примечание.** *Для визуализации вы можете использовать любую из знакомых вам библиотек.*\n",
        "\n",
        "На основе построенной корреляционной матрицы ответьте на следующий вопрос:\n",
        "\n",
        "* Какие факторы сильнее всего коррелируют с целевой переменной?\n",
        "\n",
        "Вычислите ранг и определитель полученной матрицы корреляций и приведите развёрнутые ответы на следующие вопросы:\n",
        "* Является ли корреляционная матрица плохо обусловенной (близок ли её опредитель к нулю)?\n",
        "* Что вы можете сказать о наличии коллинераности/мультиколлинеарности в данных? \n",
        "* Применима ли в данном случае модель классической линейной регрессии по методу наименьших квадратов и почему? "
      ]
    },
    {
      "cell_type": "markdown",
      "id": "57OjUl5e2oiL",
      "metadata": {
        "id": "57OjUl5e2oiL"
      },
      "source": [
        "**Критерии оценивания:**\n",
        "- Задание выполнено верно, учтены все условия (**2 балла**): \n",
        "    * приведён код для расчёта корреляционной матрицы;\n",
        "    * приведён код для визуализации корреляционной матрицы в виде тепловой карты;\n",
        "    * рассчитаны ранг и определитель корреляционной матрицы;\n",
        "    * предоставлены обоснованные ответы на все поставленные вопросы. \n",
        "\n",
        "- Задание выполнено верно, но не учтено одно условие (**1 балл**).\n",
        "- Задание выполнено неверно, не учтено несколько условий (**0 баллов**)."
      ]
    },
    {
      "cell_type": "code",
      "execution_count": 535,
      "id": "14e60c81",
      "metadata": {},
      "outputs": [],
      "source": [
        "#Разделим данные на все признаки и целевой\n",
        "# составляем матрицу наблюдений без дополнительного столбца из единиц\n",
        "A = data[['Well', 'Por', 'Perm','AI','Brittle', 'TOC','VR']]\n",
        "y = data['Prod'].to_frame()"
      ]
    },
    {
      "cell_type": "code",
      "execution_count": 536,
      "id": "8657b2bc",
      "metadata": {},
      "outputs": [
        {
          "data": {
            "text/html": [
              "<div>\n",
              "<style scoped>\n",
              "    .dataframe tbody tr th:only-of-type {\n",
              "        vertical-align: middle;\n",
              "    }\n",
              "\n",
              "    .dataframe tbody tr th {\n",
              "        vertical-align: top;\n",
              "    }\n",
              "\n",
              "    .dataframe thead th {\n",
              "        text-align: right;\n",
              "    }\n",
              "</style>\n",
              "<table border=\"1\" class=\"dataframe\">\n",
              "  <thead>\n",
              "    <tr style=\"text-align: right;\">\n",
              "      <th></th>\n",
              "      <th>Well</th>\n",
              "      <th>Por</th>\n",
              "      <th>Perm</th>\n",
              "      <th>AI</th>\n",
              "      <th>Brittle</th>\n",
              "      <th>TOC</th>\n",
              "      <th>VR</th>\n",
              "      <th>Prod</th>\n",
              "    </tr>\n",
              "  </thead>\n",
              "  <tbody>\n",
              "    <tr>\n",
              "      <th>count</th>\n",
              "      <td>200.00</td>\n",
              "      <td>200.00</td>\n",
              "      <td>200.00</td>\n",
              "      <td>200.00</td>\n",
              "      <td>200.00</td>\n",
              "      <td>200.00</td>\n",
              "      <td>200.00</td>\n",
              "      <td>200.00</td>\n",
              "    </tr>\n",
              "    <tr>\n",
              "      <th>mean</th>\n",
              "      <td>0.00</td>\n",
              "      <td>0.00</td>\n",
              "      <td>-0.00</td>\n",
              "      <td>0.00</td>\n",
              "      <td>0.00</td>\n",
              "      <td>0.00</td>\n",
              "      <td>0.00</td>\n",
              "      <td>0.00</td>\n",
              "    </tr>\n",
              "    <tr>\n",
              "      <th>std</th>\n",
              "      <td>0.07</td>\n",
              "      <td>0.07</td>\n",
              "      <td>0.07</td>\n",
              "      <td>0.07</td>\n",
              "      <td>0.07</td>\n",
              "      <td>0.07</td>\n",
              "      <td>0.07</td>\n",
              "      <td>0.07</td>\n",
              "    </tr>\n",
              "    <tr>\n",
              "      <th>min</th>\n",
              "      <td>-0.12</td>\n",
              "      <td>-0.20</td>\n",
              "      <td>-0.13</td>\n",
              "      <td>-0.21</td>\n",
              "      <td>-0.19</td>\n",
              "      <td>-0.17</td>\n",
              "      <td>-0.24</td>\n",
              "      <td>-0.16</td>\n",
              "    </tr>\n",
              "    <tr>\n",
              "      <th>25%</th>\n",
              "      <td>-0.06</td>\n",
              "      <td>-0.05</td>\n",
              "      <td>-0.05</td>\n",
              "      <td>-0.05</td>\n",
              "      <td>-0.05</td>\n",
              "      <td>-0.05</td>\n",
              "      <td>-0.05</td>\n",
              "      <td>-0.05</td>\n",
              "    </tr>\n",
              "    <tr>\n",
              "      <th>50%</th>\n",
              "      <td>0.00</td>\n",
              "      <td>0.00</td>\n",
              "      <td>-0.01</td>\n",
              "      <td>-0.00</td>\n",
              "      <td>0.01</td>\n",
              "      <td>0.01</td>\n",
              "      <td>-0.00</td>\n",
              "      <td>-0.00</td>\n",
              "    </tr>\n",
              "    <tr>\n",
              "      <th>75%</th>\n",
              "      <td>0.06</td>\n",
              "      <td>0.06</td>\n",
              "      <td>0.04</td>\n",
              "      <td>0.05</td>\n",
              "      <td>0.05</td>\n",
              "      <td>0.05</td>\n",
              "      <td>0.04</td>\n",
              "      <td>0.06</td>\n",
              "    </tr>\n",
              "    <tr>\n",
              "      <th>max</th>\n",
              "      <td>0.12</td>\n",
              "      <td>0.20</td>\n",
              "      <td>0.23</td>\n",
              "      <td>0.21</td>\n",
              "      <td>0.18</td>\n",
              "      <td>0.18</td>\n",
              "      <td>0.21</td>\n",
              "      <td>0.17</td>\n",
              "    </tr>\n",
              "  </tbody>\n",
              "</table>\n",
              "</div>"
            ],
            "text/plain": [
              "         Well     Por    Perm      AI  Brittle     TOC      VR    Prod\n",
              "count  200.00  200.00  200.00  200.00   200.00  200.00  200.00  200.00\n",
              "mean     0.00    0.00   -0.00    0.00     0.00    0.00    0.00    0.00\n",
              "std      0.07    0.07    0.07    0.07     0.07    0.07    0.07    0.07\n",
              "min     -0.12   -0.20   -0.13   -0.21    -0.19   -0.17   -0.24   -0.16\n",
              "25%     -0.06   -0.05   -0.05   -0.05    -0.05   -0.05   -0.05   -0.05\n",
              "50%      0.00    0.00   -0.01   -0.00     0.01    0.01   -0.00   -0.00\n",
              "75%      0.06    0.06    0.04    0.05     0.05    0.05    0.04    0.06\n",
              "max      0.12    0.20    0.23    0.21     0.18    0.18    0.21    0.17"
            ]
          },
          "execution_count": 536,
          "metadata": {},
          "output_type": "execute_result"
        }
      ],
      "source": [
        "# стандартизируем векторы в столбцах матрицы A\n",
        "A_cent = data - data.mean()\n",
        "A_st = A_cent/np.linalg.norm(A_cent, axis=0)\n",
        "A_st.describe().round(2)"
      ]
    },
    {
      "cell_type": "code",
      "execution_count": 537,
      "id": "0f36e5c8",
      "metadata": {},
      "outputs": [
        {
          "data": {
            "text/html": [
              "<div>\n",
              "<style scoped>\n",
              "    .dataframe tbody tr th:only-of-type {\n",
              "        vertical-align: middle;\n",
              "    }\n",
              "\n",
              "    .dataframe tbody tr th {\n",
              "        vertical-align: top;\n",
              "    }\n",
              "\n",
              "    .dataframe thead th {\n",
              "        text-align: right;\n",
              "    }\n",
              "</style>\n",
              "<table border=\"1\" class=\"dataframe\">\n",
              "  <thead>\n",
              "    <tr style=\"text-align: right;\">\n",
              "      <th></th>\n",
              "      <th>Well</th>\n",
              "      <th>Por</th>\n",
              "      <th>Perm</th>\n",
              "      <th>AI</th>\n",
              "      <th>Brittle</th>\n",
              "      <th>TOC</th>\n",
              "      <th>VR</th>\n",
              "      <th>Prod</th>\n",
              "    </tr>\n",
              "  </thead>\n",
              "  <tbody>\n",
              "    <tr>\n",
              "      <th>Well</th>\n",
              "      <td>1.000000</td>\n",
              "      <td>0.068927</td>\n",
              "      <td>0.077928</td>\n",
              "      <td>0.041483</td>\n",
              "      <td>-0.079252</td>\n",
              "      <td>0.022624</td>\n",
              "      <td>-0.007279</td>\n",
              "      <td>0.026817</td>\n",
              "    </tr>\n",
              "    <tr>\n",
              "      <th>Por</th>\n",
              "      <td>0.068927</td>\n",
              "      <td>1.000000</td>\n",
              "      <td>0.760546</td>\n",
              "      <td>-0.461549</td>\n",
              "      <td>-0.218570</td>\n",
              "      <td>0.711831</td>\n",
              "      <td>0.111860</td>\n",
              "      <td>0.861910</td>\n",
              "    </tr>\n",
              "    <tr>\n",
              "      <th>Perm</th>\n",
              "      <td>0.077928</td>\n",
              "      <td>0.760546</td>\n",
              "      <td>1.000000</td>\n",
              "      <td>-0.239636</td>\n",
              "      <td>-0.124017</td>\n",
              "      <td>0.471746</td>\n",
              "      <td>0.051023</td>\n",
              "      <td>0.727426</td>\n",
              "    </tr>\n",
              "    <tr>\n",
              "      <th>AI</th>\n",
              "      <td>0.041483</td>\n",
              "      <td>-0.461549</td>\n",
              "      <td>-0.239636</td>\n",
              "      <td>1.000000</td>\n",
              "      <td>0.127599</td>\n",
              "      <td>-0.531864</td>\n",
              "      <td>0.499143</td>\n",
              "      <td>-0.390835</td>\n",
              "    </tr>\n",
              "    <tr>\n",
              "      <th>Brittle</th>\n",
              "      <td>-0.079252</td>\n",
              "      <td>-0.218570</td>\n",
              "      <td>-0.124017</td>\n",
              "      <td>0.127599</td>\n",
              "      <td>1.000000</td>\n",
              "      <td>-0.214282</td>\n",
              "      <td>0.317929</td>\n",
              "      <td>0.237155</td>\n",
              "    </tr>\n",
              "    <tr>\n",
              "      <th>TOC</th>\n",
              "      <td>0.022624</td>\n",
              "      <td>0.711831</td>\n",
              "      <td>0.471746</td>\n",
              "      <td>-0.531864</td>\n",
              "      <td>-0.214282</td>\n",
              "      <td>1.000000</td>\n",
              "      <td>0.299483</td>\n",
              "      <td>0.654445</td>\n",
              "    </tr>\n",
              "    <tr>\n",
              "      <th>VR</th>\n",
              "      <td>-0.007279</td>\n",
              "      <td>0.111860</td>\n",
              "      <td>0.051023</td>\n",
              "      <td>0.499143</td>\n",
              "      <td>0.317929</td>\n",
              "      <td>0.299483</td>\n",
              "      <td>1.000000</td>\n",
              "      <td>0.323182</td>\n",
              "    </tr>\n",
              "    <tr>\n",
              "      <th>Prod</th>\n",
              "      <td>0.026817</td>\n",
              "      <td>0.861910</td>\n",
              "      <td>0.727426</td>\n",
              "      <td>-0.390835</td>\n",
              "      <td>0.237155</td>\n",
              "      <td>0.654445</td>\n",
              "      <td>0.323182</td>\n",
              "      <td>1.000000</td>\n",
              "    </tr>\n",
              "  </tbody>\n",
              "</table>\n",
              "</div>"
            ],
            "text/plain": [
              "             Well       Por      Perm        AI   Brittle       TOC        VR  \\\n",
              "Well     1.000000  0.068927  0.077928  0.041483 -0.079252  0.022624 -0.007279   \n",
              "Por      0.068927  1.000000  0.760546 -0.461549 -0.218570  0.711831  0.111860   \n",
              "Perm     0.077928  0.760546  1.000000 -0.239636 -0.124017  0.471746  0.051023   \n",
              "AI       0.041483 -0.461549 -0.239636  1.000000  0.127599 -0.531864  0.499143   \n",
              "Brittle -0.079252 -0.218570 -0.124017  0.127599  1.000000 -0.214282  0.317929   \n",
              "TOC      0.022624  0.711831  0.471746 -0.531864 -0.214282  1.000000  0.299483   \n",
              "VR      -0.007279  0.111860  0.051023  0.499143  0.317929  0.299483  1.000000   \n",
              "Prod     0.026817  0.861910  0.727426 -0.390835  0.237155  0.654445  0.323182   \n",
              "\n",
              "             Prod  \n",
              "Well     0.026817  \n",
              "Por      0.861910  \n",
              "Perm     0.727426  \n",
              "AI      -0.390835  \n",
              "Brittle  0.237155  \n",
              "TOC      0.654445  \n",
              "VR       0.323182  \n",
              "Prod     1.000000  "
            ]
          },
          "execution_count": 537,
          "metadata": {},
          "output_type": "execute_result"
        }
      ],
      "source": [
        "#Построим матрицу корреляции\n",
        "Corr_matrix = A_st.T @ A_st\n",
        "Corr_matrix"
      ]
    },
    {
      "cell_type": "code",
      "execution_count": 538,
      "id": "3e15004c",
      "metadata": {},
      "outputs": [
        {
          "data": {
            "text/plain": [
              "<AxesSubplot: >"
            ]
          },
          "execution_count": 538,
          "metadata": {},
          "output_type": "execute_result"
        },
        {
          "data": {
            "image/png": "[encoded data removed]",
            "text/plain": [
              "<Figure size 640x480 with 2 Axes>"
            ]
          },
          "metadata": {},
          "output_type": "display_data"
        }
      ],
      "source": [
        "sns.heatmap(Corr_matrix, annot = True)"
      ]
    },
    {
      "cell_type": "code",
      "execution_count": 539,
      "id": "f583f13f",
      "metadata": {},
      "outputs": [
        {
          "name": "stdout",
          "output_type": "stream",
          "text": [
            "Rank: 8\n",
            "Determinant: 0.0007299\n"
          ]
        }
      ],
      "source": [
        "print('Rank:', np.linalg.matrix_rank(Corr_matrix))\n",
        "print('Determinant: {:.7f}'.format(np.linalg.det(Corr_matrix)))"
      ]
    },
    {
      "cell_type": "markdown",
      "id": "9a56013d",
      "metadata": {
        "id": "9a56013d"
      },
      "source": [
        "> Признаки с высокой корреляцией Por = 0.86, Perm = 0.76, TOC = 0.71. Ранг матрицы равен 8. Детерминант 0.0007299. Матрица плохо обусловлена, определитель близок к 0."
      ]
    },
    {
      "cell_type": "markdown",
      "id": "43fd91c4",
      "metadata": {
        "id": "43fd91c4"
      },
      "source": [
        "### Задание 5.2. (2 балла)\n",
        "\n",
        "Создайте матрицу наблюдений `X` и вектор правильных ответов `y`. В качестве факторов для матрицы наблюдений возьмите все имеющиеся в данных признаки. \n",
        "\n",
        "Постройте модель линейной регрессии по методу наименьших квадратов. Для этого воспользуйтесь матричной формулой МНК и инструментарием библиотеки numpy. \n",
        "\n",
        "Выведите на экран полученные оценки коэффициентов модели, округлённые до целого.\n",
        "\n",
        "Приведите подробные выводы по полученным результатам, ответив на следующие вопросы:\n",
        "* Есть ли в ваших данных признаки, которые, согласно модели, можно назвать неинформативными, то есть они не оказывают влияния на целевую переменную или оказывают шумовое влияние?\n",
        "* Приведите интерпретацию нескольких (двух или трёх) коэффициентов полученной модели линейной регрессии.\n"
      ]
    },
    {
      "cell_type": "markdown",
      "id": "QtNtTUzI4Cpq",
      "metadata": {
        "id": "QtNtTUzI4Cpq"
      },
      "source": [
        "**Критерии оценивания:**\n",
        "- Задание выполнено верно, учтены все условия (**2 балла**): \n",
        "    * приведён код для нахождения параметров модели линейной регрессии с помощью матричной формулы МНК;\n",
        "    * на основе полученных параметров даны верные ответы на поставленные вопросы;\n",
        "    * приведена корректная интерпретация нескольких коэффициентов полученной модели линейной регрессии.\n",
        "\n",
        "- Задание выполнено верно, но не учтено одно из условий (**1 балл**).\n",
        "- Задание выполнено неверно, не учтено несколько условий (**0 баллов**)."
      ]
    },
    {
      "cell_type": "code",
      "execution_count": 540,
      "id": "5724288c",
      "metadata": {
        "id": "5724288c"
      },
      "outputs": [
        {
          "name": "stdout",
          "output_type": "stream",
          "text": [
            "intercept   -1232.0\n",
            "Well            0.0\n",
            "Por           230.0\n",
            "Perm          116.0\n",
            "AI           -365.0\n",
            "Brittle        25.0\n",
            "TOC           -78.0\n",
            "VR            785.0\n",
            "dtype: float64\n"
          ]
        }
      ],
      "source": [
        "#Создадим матрицу наблюдений и правильных ответов\n",
        "X = data.drop('Prod', axis=1)\n",
        "y = data['Prod']\n",
        "# строим регрессию с интерсептом.\n",
        "index = ['intercept']+list(X.columns)\n",
        "n = X.shape[0]\n",
        "#Добавляем столбец с единицами размерностью соответствующей количеству строк таблицы n\n",
        "X = np.column_stack((np.ones(n), X))\n",
        "# вычислим OLS-оценку для коэффициентов\n",
        "w_hat = np.linalg.inv(X.T@X)@X.T@y\n",
        "print(pd.Series(np.round(w_hat, 0), index=index))"
      ]
    },
    {
      "cell_type": "markdown",
      "id": "bab9ee21",
      "metadata": {
        "id": "bab9ee21"
      },
      "source": [
        "> Признак Well, согласно найденным целым коэффициентам, является неинформативным и не оказывает влияния на целевую переменную. Параметры AI, TOC - оказывают обратное влияние на целевую пременную."
      ]
    },
    {
      "cell_type": "markdown",
      "id": "4a05a4ac",
      "metadata": {
        "id": "4a05a4ac"
      },
      "source": [
        "### Задание 5.3. (1 балл)\n",
        "\n",
        "Теперь потренируемся строить предсказание для наблюдений целевой переменной. \n",
        "\n",
        "**а)** Постройте прогноз выработки газа для скважины со следующими параметрами:\n",
        "\n",
        "```python\n",
        "{\n",
        "    'Well': 106.0,\n",
        "    'Por': 15.32,\n",
        "    'Perm': 3.71,\n",
        "    'AI': 3.29,\n",
        "    'Brittle': 55.99,\n",
        "    'TOC': 1.35,\n",
        "    'VR': 2.42\n",
        " }\n",
        "```\n",
        "\n",
        "Рассчитайте абсолютную ошибку построенного вами прогноза для предложенной скважины (в миллионах кубических футов в день), если известно, что на этой скважине производится `4748.315024` миллионов кубических футов газа в день. \n",
        "\n",
        "**б)** Постройте прогноз выработки газа для всех скважин из обучающего набора данных. Выберите метрику, по которой вы будете оценивать качество регрессионных моделей и сравнивать их между собой (можно использовать несколько метрик, но не более двух).\n",
        "\n",
        "Рассчитайте значение выбранной метрики для вашей модели. Приведите интерпретацию полученного результата. "
      ]
    },
    {
      "cell_type": "markdown",
      "id": "qUDcep5Q5GWU",
      "metadata": {
        "id": "qUDcep5Q5GWU"
      },
      "source": [
        "**Критерии оценивания:**\n",
        "- Задание выполнено верно, учтены все условия (**1 балл**): \n",
        "    * приведён код для построения прогноза выработки газа на указанной скважине и рассчитана абсолютная ошибка прогноза для этой скважины;\n",
        "    * выбрана корректная для поставленной задачи метрика (или метрики) оценки качества модели и приведён код для расчёта этой метрики на всём обучающем наборе данных;\n",
        "    * приведена корректная интерпретация полученного результата.\n",
        "\n",
        "- Задание выполнено верно, но не учтено одно из условий, или задание выполнено неверно (**0 баллов**)."
      ]
    },
    {
      "cell_type": "code",
      "execution_count": 541,
      "id": "e4291db0",
      "metadata": {
        "id": "e4291db0"
      },
      "outputs": [
        {
          "name": "stdout",
          "output_type": "stream",
          "text": [
            "25.0\n"
          ]
        }
      ],
      "source": [
        "x_new = np.array([1, 106, 15.32, 3.71, 3.29, 55.99, 1.35, 2.42])\n",
        "y_new = 4748.315024\n",
        "y_new_pred = x_new @ w_hat\n",
        "print(np.round(np.abs(y_new_pred - y_new), 0))"
      ]
    },
    {
      "cell_type": "code",
      "execution_count": 542,
      "id": "a84a35f7",
      "metadata": {},
      "outputs": [
        {
          "name": "stdout",
          "output_type": "stream",
          "text": [
            "Result MAPE 3.6:\n"
          ]
        }
      ],
      "source": [
        "from sklearn.metrics import mean_absolute_percentage_error\n",
        "y_pred = X @ w_hat\n",
        "print('Result MAPE {:.1f}:'.format(mean_absolute_percentage_error(y, y_pred)*100))"
      ]
    },
    {
      "cell_type": "markdown",
      "id": "c9bee4bc",
      "metadata": {
        "id": "c9bee4bc"
      },
      "source": [
        "Ошибка MAPE составляет 3,6%.  Абсолютная ошибка построенного прогноза для предложенной скважины 25 миллионов кубических футов в день."
      ]
    },
    {
      "cell_type": "markdown",
      "id": "0c25c3aa",
      "metadata": {
        "id": "0c25c3aa"
      },
      "source": [
        "### Задание 5.4. (1 балл)\n",
        "\n",
        "Настало время анализа построенной модели. Посмотрите на коэффициенты и сравните их знаки со значениями выборочных корреляций между целевым признаком и факторами, которые вы нашли ранее.\n",
        "\n",
        "Дайте развёрнутые ответы на следующие вопросы:\n",
        "\n",
        "* Есть ли в вашей модели фактор, при котором коэффициент в модели линейной регрессии противоречит соответствующему коэффициенту корреляции? Например, корреляция говорит, что зависимость между фактором и целевой переменной прямая, а модель говорит обратное. Если таких факторов несколько, укажите их все.\n",
        "* Как вы считаете, с чем связано полученное противоречие результатов?"
      ]
    },
    {
      "cell_type": "markdown",
      "id": "ngJ3UdYb6Ll6",
      "metadata": {
        "id": "ngJ3UdYb6Ll6"
      },
      "source": [
        "**Критерии оценивания:**\n",
        "\n",
        "- Задание выполнено верно, даны корректные развёрнутые ответы на все поставленные в задании вопросы (**1 балл**). \n",
        "\n",
        "- Задание выполнено неверно, даны некорректные ответы на один или несколько поставленных в задании вопросов (**0 баллов**)."
      ]
    },
    {
      "cell_type": "code",
      "execution_count": 543,
      "id": "f4de2da8",
      "metadata": {},
      "outputs": [
        {
          "data": {
            "text/plain": [
              "<AxesSubplot: xlabel='TOC', ylabel='Prod'>"
            ]
          },
          "execution_count": 543,
          "metadata": {},
          "output_type": "execute_result"
        },
        {
          "data": {
            "image/png": "[encoded data removed]",
            "text/plain": [
              "<Figure size 640x480 with 1 Axes>"
            ]
          },
          "metadata": {},
          "output_type": "display_data"
        }
      ],
      "source": [
        "#Построим график зависимости признаков Prod и TOC\n",
        "sns.scatterplot(x='TOC', y='Prod', data=data)"
      ]
    },
    {
      "cell_type": "markdown",
      "id": "qeowwIp99yBf",
      "metadata": {
        "id": "qeowwIp99yBf"
      },
      "source": [
        "Коэффициент признака TOC равен -78. Согласно построенной модели, зависимость между процентом органического углерода и производительностью скважины обратная. Однако, согласно положительному коэффициенту корреляции между этим факторым и целевым признаком, равным 0.65 (а также согласно реальным фактам из сферы добычи газа), зависимость должна быть прямой. Из графика выше видно, что зависимость прямая и линейная. Данный результат обусловлен тем, что имеется сильная мультиколлинеарность в данных, которая «портит» коэффициенты. "
      ]
    },
    {
      "cell_type": "markdown",
      "id": "9cea9195",
      "metadata": {
        "id": "9cea9195"
      },
      "source": [
        "### Задание 5.5. (2 балла)\n",
        "\n",
        "* Исключите из данных сильно коррелированные между собой факторы. Под сильной корреляцией в данной задаче будем понимать значения выше `0.7`.\n",
        "\n",
        "Выбирая, какой из коррелированных факторов оставить, руководствуйтесь коэффициентом корреляции с целевой переменной: оставляйте тот фактор, который больше всего коррелирует с целевой переменной (объёмом добычи газа).\n",
        "\n",
        "* Также исключите из данных факторы, для которых корреляция с целевой переменной меньше `0.05`.\n",
        "\n",
        "Постройте модель линейной регрессии на обновлённых после удаления факторов данных по методу наименьших квадратов. Для этого используйте матричную формулу и библиотеку numpy. Выведите значение полученных коэффициентов, округлённых до целого.\n",
        "\n",
        "Сделайте прогноз для всего обучающего набора данных и рассчитайте выбранную вами ранее метрику (или метрики). \n",
        "\n",
        "Дайте подробные ответы на следующие вопросы:\n",
        "\n",
        "* Приведите интерпретацию нескольких полученных коэффициентов (двух или трёх). Сравните их значения с полученными ранее.\n",
        "* Приведите интерпретацию полученных значений метрик. Сравните их значения с полученными ранее. \n",
        "* Удалось ли вам побороть противоречие коэффициентов линейной регрессии и коэффициентов корреляции?"
      ]
    },
    {
      "cell_type": "markdown",
      "id": "vlUYVjJP6oXN",
      "metadata": {
        "id": "vlUYVjJP6oXN"
      },
      "source": [
        "**Критерии оценивания:**\n",
        "- Задание выполнено верно, учтены все условия (**2 балла**): \n",
        "    * отобраны верные факторы;\n",
        "    * на основе отобранных факторов построена модель линейной регрессии с помощью матричной формулы МНК и найдены параметры модели, соответствующие каждому из факторов;\n",
        "    * построен прогноз для всего обучающего набора данных и рассчитано значение метрики (метрика должна быть выбрана корректно);\n",
        "    * даны ответы на все поставленные в задании вопросы.\n",
        "\n",
        "- Задание выполнено верно, но не учтено одно из условий (**1 балл**).\n",
        "- Задание выполнено верно, не учтено несколько из условий (**0 баллов**)."
      ]
    },
    {
      "cell_type": "code",
      "execution_count": 544,
      "id": "5d5ZJ0lX_UHe",
      "metadata": {
        "id": "5d5ZJ0lX_UHe"
      },
      "outputs": [
        {
          "name": "stdout",
          "output_type": "stream",
          "text": [
            "intercept   -1835.0\n",
            "Por           293.0\n",
            "AI           -200.0\n",
            "Brittle        28.0\n",
            "VR            517.0\n",
            "dtype: float64\n",
            "MAPE: 4.0%\n"
          ]
        }
      ],
      "source": [
        "from sklearn.metrics import mean_absolute_percentage_error\n",
        "#Исключаем из данных признаки Well, Perm, TOC и целевой признак Prod\n",
        "X = data.drop(['Prod', 'Perm', 'TOC', 'Well'], axis=1)\n",
        "y = data['Prod'].values\n",
        "index = ['intercept']+list(X.columns)\n",
        "n = X.shape[0]\n",
        "X = np.column_stack((np.ones(n), X))\n",
        "w_hat = np.linalg.inv(X.T@X)@X.T@y\n",
        "y_pred = X @ w_hat\n",
        "print(pd.Series(np.round(w_hat, 0), index=index))\n",
        "print(f'MAPE: {mean_absolute_percentage_error(y, y_pred)*100:.1f}%')"
      ]
    },
    {
      "cell_type": "markdown",
      "id": "KxbYvMDo_WLe",
      "metadata": {
        "id": "KxbYvMDo_WLe"
      },
      "source": [
        "В очищенных от скоррелированных признаков данных получили среднюю абсолютную ошибку равную 4%, что больше ошибки по всем признакам 3,6%. Знаки корреляции сопадают с матрицей корреляции. Признаки Por,Brittle,VR имеют положительные знаки. Признак AR - имеет отрицательный знак. Знаки соответствуют корреляции из задания 5.1."
      ]
    },
    {
      "cell_type": "markdown",
      "id": "7d50db12",
      "metadata": {
        "id": "7d50db12"
      },
      "source": [
        "### Задание 5.6. (1 балл)\n",
        "\n",
        "Наконец, давайте построим модель линейной регрессии из библиотеки `scikit-learn (sklearn)` и сравним результаты её работы с теми, что нам удалось получить вручную. \n",
        "\n",
        "Постройте модель линейной регрессии на обновлённых после удаления факторов данных по методу наименьших квадратов. Для этого воспользуйтесь классом `LinearRegression` из библиотеки `sklearn`. Выведите значения полученных коэффициентов, округлённые до целого.\n",
        "\n",
        "Сделайте прогноз для всего обучающего набора данных и рассчитайте значение выбранной вами метрики (или метрик).\n",
        "\n",
        "Сравните результаты библиотечной реализации с тем, что вы получили ранее. "
      ]
    },
    {
      "cell_type": "markdown",
      "id": "emu5D3w278JP",
      "metadata": {
        "id": "emu5D3w278JP"
      },
      "source": [
        "**Критерии оценивания:**\n",
        "\n",
        "- Задание выполнено верно, учтены все условия (**1 балл**): \n",
        "    * на основе отобранных факторов построена модель линейной регрессии из библиотеки sklearn и найдены параметры модели, соответствующие каждому из факторов;\n",
        "    * построен прогноз для всего обучающего набора данных и рассчитано значение метрики (метрика должна быть выбрана корректно);\n",
        "    * приведён вывод о соответствии результатов, полученных вручную и с помощью библиотеки.\n",
        "- Задание выполнено неверно, не учтено одно или несколько условий (**0 баллов**)."
      ]
    },
    {
      "cell_type": "code",
      "execution_count": 545,
      "id": "Gpdpfq59AKGu",
      "metadata": {
        "id": "Gpdpfq59AKGu"
      },
      "outputs": [
        {
          "name": "stdout",
          "output_type": "stream",
          "text": [
            "[   0.  293. -200.   28.  517.]\n"
          ]
        }
      ],
      "source": [
        "#Строим модель линейной регрессии\n",
        "lr = LinearRegression().fit(X, y)\n",
        "y_pred = lr.predict(X)\n",
        "print(np.around(lr.coef_, decimals=0, out=None))"
      ]
    },
    {
      "cell_type": "markdown",
      "id": "WT9cdHAbAMG7",
      "metadata": {
        "id": "WT9cdHAbAMG7"
      },
      "source": [
        "Результат функции из библиотеки идентичен реализации выше."
      ]
    },
    {
      "cell_type": "markdown",
      "id": "5346338e",
      "metadata": {
        "id": "5346338e"
      },
      "source": [
        "## Практика: полиномиальная регрессия и регуляризация"
      ]
    },
    {
      "cell_type": "markdown",
      "id": "aad9e3a6",
      "metadata": {
        "id": "aad9e3a6"
      },
      "source": [
        "Мы продолжаем работать над задачей от владельца компании «Газ-Таз-Ваз-Нефть» Василия.\n",
        "\n",
        "Ранее мы построили модель линейной регрессии, которая прогнозирует выработку газа на скважине. Для этого мы с помощью матрицы корреляций и рассуждений отобрали некоррелированные, значимые для предсказания признаки. **Далее мы будем использовать именно их (см. задание 5.5).**\n",
        "\n",
        "Мы хотим улучшить результат — уменьшить ошибку прогноза. Для этого мы воспользуемся моделью полиномиальной регрессии третьей степени. Однако теперь мы знаем, что полиномиальным моделям очень легко переобучиться под исходную выборку. Так как данных у нас не так много (всего 200 скважин), то для контроля качества модели мы будем использовать кросс-валидацию. \n",
        "\n",
        "Приступим! Выполните задания 8.1–8.5:\n"
      ]
    },
    {
      "cell_type": "code",
      "execution_count": 546,
      "id": "18506d1b",
      "metadata": {
        "id": "18506d1b"
      },
      "outputs": [],
      "source": [
        "from sklearn.preprocessing import PolynomialFeatures, StandardScaler\n",
        "from sklearn.linear_model import LinearRegression, Lasso, Ridge, ElasticNet\n",
        "from sklearn.model_selection import cross_validate\n",
        "from sklearn.model_selection import RandomizedSearchCV"
      ]
    },
    {
      "cell_type": "markdown",
      "id": "bfbfea8d",
      "metadata": {
        "id": "bfbfea8d"
      },
      "source": [
        "### Задание 8.1. (1 балл)\n",
        "\n",
        "Стандаризируйте признаки с помощью `StandartScaler` из библиотеки `sklearn`. \n",
        "\n",
        "Затем сгенерируйте полиномиальные признаки третьего порядка на факторах, которые вы выбрали для обучения моделей. Для этого воспользуйтесь генератором полиномов `PolynomialFeatures` из библиотеки `sklearn`. Параметр `include_bias` установите в значение `False`.\n",
        "\n",
        "Выведите на экран, сколько факторов у вас получилось после генерации полиномиальных признаков.\n",
        "\n",
        "**Важно:** стандартизацию необходимо произвести до генерации полиномиальных факторов!\n",
        "\n",
        "Обучите модель линейной регрессии из библиотеки `sklearn` (`LinearRegression`) на полученных полиномиальных факторах.\n",
        "\n",
        "Используя кросс-валидацию оцените среднее значение выбранной вами метрики (или метрик) на тренировочных и валидационных фолдах.\n",
        "\n",
        "Проинтерпретируйте полученные результаты."
      ]
    },
    {
      "cell_type": "markdown",
      "id": "Y8oAhQkr8gV-",
      "metadata": {
        "id": "Y8oAhQkr8gV-"
      },
      "source": [
        "**Критерии оценивания:**\n",
        "\n",
        "- Задание выполнено верно, учтены все условия (**1 балл**): \n",
        "    * на основе отобранных факторов сгенерированы полиномиальные признаки третьего порядка;\n",
        "    * построена модель полиномиальной регрессии (линейной регрессии на полиномиальных признаках);\n",
        "    * с помощью кросс-валидации оценено среднее значение выбранной студентом метрики (или метрик) на тренировочных и валидационных фолдах (метрика должна быть выбрана корректно).\n",
        "- Задание выполнено неверно, не учтено одно или несколько из условий (**0 баллов**)."
      ]
    },
    {
      "cell_type": "code",
      "execution_count": 547,
      "id": "-ln3bx8NFNRw",
      "metadata": {
        "id": "-ln3bx8NFNRw"
      },
      "outputs": [
        {
          "name": "stdout",
          "output_type": "stream",
          "text": [
            "MAPE на тренировочных фолдах: 1.77 %\n",
            "MAPE на валидационных фолдах: 2.68 %\n"
          ]
        }
      ],
      "source": [
        "X = data.drop(['Prod', 'Perm', 'TOC', 'Well'], axis=1)\n",
        "y = data['Prod'].values\n",
        "# инициализируем стандартизатор StandardScaler\n",
        "scaler = StandardScaler()\n",
        "# подгоняем параметры стандартизатора (вычисляем среднее и СКО)\n",
        "X = scaler.fit_transform(X)\n",
        "# добавляем полиномиальные признаки\n",
        "poly = PolynomialFeatures(degree=3, include_bias=False)\n",
        "X = poly.fit_transform(X)\n",
        "# создаём модель линейной регрессии\n",
        "lr = LinearRegression()\n",
        "# оцениваем качество модели на кросс-валидации, метрика — MAPE\n",
        "results = cross_validate(lr, X, y, scoring='neg_mean_absolute_percentage_error', cv=5, return_train_score=True)\n",
        "print('MAPE на тренировочных фолдах: {:.2f} %'.format(-results['train_score'].mean()* 100))\n",
        "print('MAPE на валидационных фолдах: {:.2f} %'.format(-results['test_score'].mean() * 100))"
      ]
    },
    {
      "cell_type": "code",
      "execution_count": 548,
      "id": "e450cfdb",
      "metadata": {},
      "outputs": [],
      "source": [
        "#Записываем данные для результирующей таблицы\n",
        "result_df = pd.DataFrame({'Метод': ['LinearRegression'], 'MAPE на тренировочных фолдах %': [-results['train_score'].mean()* 100], 'MAPE на валидационных фолдах %':[-results['test_score'].mean() * 100],'Гиперпараметры':[''],'Полиномиальные признаки':['True']})"
      ]
    },
    {
      "cell_type": "markdown",
      "id": "9DkuuLLtFPPy",
      "metadata": {
        "id": "9DkuuLLtFPPy"
      },
      "source": [
        "Ошибка MAPE для валидационной выборки составляет 2.68%, для тренировочной 1.77%. "
      ]
    },
    {
      "cell_type": "markdown",
      "id": "63d06013",
      "metadata": {
        "id": "63d06013"
      },
      "source": [
        "### Задание 8.2. (2 балла)\n",
        "\n",
        "Теперь попробуем воспользоваться линейной регрессией с регуляризацией. Для начала возьмём $L_1$-регуляризацию.\n",
        "\n",
        "Обучите модель `Lasso` из библиотеки `sklearn` на полученных полиномиальных факторах, предварительно стандартизировав факторы. \n",
        "\n",
        "Коэффициент регуляризации (`alpha`) подберите самостоятельно с помощью любого известного вам метода подбора гиперпаметров.\n",
        "\n",
        "Используя кросс-валидацию, оцените среднее значение выбранной вами метрики (или метрик) на тренировочных и валидационных фолдах.\n",
        "\n",
        "Проинтерпретируйте полученные результаты."
      ]
    },
    {
      "cell_type": "markdown",
      "id": "z24YUfuA9rUq",
      "metadata": {
        "id": "z24YUfuA9rUq"
      },
      "source": [
        "**Критерии оценивания:**\n",
        "\n",
        "- Задание выполнено верно, учтены все условия (**2 балла**): \n",
        "    * правильно построена модель полиномиальной регрессии (линейной регрессии на полиномиальных признаках) с регуляризацией (Lasso), учтены условия необходимости масштабирования факторов для построения модели;\n",
        "    * приведён код для подбора параметра регуляризации (вручную или с помощью библиотечных инструментов);\n",
        "    * с помощью кросс-валидации оценено среднее значение выбранной студентом метрики (или метрик) на тренировочных и валидационных фолдах (метрика должна быть выбрана корректно).\n",
        "\n",
        "- Задание выполнено верно, но не учтено одно из условий (**1 балл**).\n",
        "- Задание выполнено неверно, не учтено несколько условий (**0 баллов**)."
      ]
    },
    {
      "cell_type": "code",
      "execution_count": 549,
      "id": "3f7c74a0",
      "metadata": {},
      "outputs": [
        {
          "name": "stdout",
          "output_type": "stream",
          "text": [
            "CPU times: user 40.2 ms, sys: 3.16 ms, total: 43.4 ms\n",
            "Wall time: 45.9 ms\n",
            "Наилучшие значения гиперпараметров: {'alpha': 7.8087297297297305}\n",
            "MAPE на тренировочных фолдах: 2.11 %\n",
            "MAPE на валидационных фолдах: 2.46 %\n"
          ]
        }
      ],
      "source": [
        "X = data.drop(['Prod', 'Perm', 'TOC', 'Well'], axis=1)\n",
        "y = data['Prod'].values\n",
        "# инициализируем стандартизатор StandardScaler\n",
        "scaler = StandardScaler()\n",
        "# подгоняем параметры стандартизатора (вычисляем среднее и СКО)\n",
        "X = scaler.fit_transform(X)\n",
        "\n",
        "# добавляем полиномиальные признаки\n",
        "poly = PolynomialFeatures(degree=3, include_bias=False)\n",
        "X = poly.fit_transform(X)\n",
        "\n",
        "#np.linspace(start(от), stop(до), num=50(количество),dtype-тип данных)\n",
        "param_distributions = {'alpha': list(np.linspace(0.001, 100, 1000, dtype=float))},\n",
        "            \n",
        "random_search = RandomizedSearchCV(\n",
        "    estimator= Lasso(max_iter = 10000), \n",
        "    param_distributions=param_distributions, \n",
        "    cv=5, \n",
        "    n_iter = 10, \n",
        "    n_jobs = -1\n",
        ")  \n",
        "\n",
        "%time random_search.fit(X, y) \n",
        "print(\"Наилучшие значения гиперпараметров: {}\".format(random_search.best_params_))\n",
        "cv_results = cross_validate(random_search, X, y, scoring='neg_mean_absolute_percentage_error', cv=5, return_train_score=True)\n",
        "print('MAPE на тренировочных фолдах: {:.2f} %'.format(-cv_results['train_score'].mean()* 100))\n",
        "print('MAPE на валидационных фолдах: {:.2f} %'.format(-cv_results['test_score'].mean() * 100))"
      ]
    },
    {
      "cell_type": "code",
      "execution_count": 550,
      "id": "8ea0f3d1",
      "metadata": {},
      "outputs": [],
      "source": [
        "result_df.loc[ len(result_df.index )] = ['Lasso', -cv_results['train_score'].mean()* 100, -cv_results['test_score'].mean() * 100, 'alpha', 'True']"
      ]
    },
    {
      "cell_type": "markdown",
      "id": "Se0OGR8UF2Td",
      "metadata": {
        "id": "Se0OGR8UF2Td"
      },
      "source": [
        "Подобран параметр alpha = 7.8 с помощью RandomizedSearchCV. С помощью данного параметра удалось сократить ошибку MAPE до 2.46%."
      ]
    },
    {
      "cell_type": "markdown",
      "id": "2975ae60",
      "metadata": {
        "id": "2975ae60"
      },
      "source": [
        "### Задание 8.3. (2 балла)\n",
        "\n",
        "Проделаем то же самое с $L_2$-регуляризацией.\n",
        "\n",
        "Обучите модель `Ridge` из библиотеки `sklearn` на полученных полиномиальных факторах, предварительно стандартизировав факторы. \n",
        "\n",
        "Коэффициент регуляризации (`alpha`) подберите самостоятельно с помощью любого известного вам метода подбора гиперпаметров.\n",
        "\n",
        "Используя кросс-валидацию оцените среднее значение выбранной вами метрики (или метрик) на тренировочных и валидационных фолдах.\n",
        "\n",
        "Проинтерпретируйте полученные результаты."
      ]
    },
    {
      "cell_type": "code",
      "execution_count": 551,
      "id": "4b394b84",
      "metadata": {},
      "outputs": [
        {
          "name": "stdout",
          "output_type": "stream",
          "text": [
            "CPU times: user 40.3 ms, sys: 3.21 ms, total: 43.5 ms\n",
            "Wall time: 45 ms\n",
            "Наилучшие значения гиперпараметров: {'alpha': 0.09693693693693695}\n",
            "MAPE на тренировочных фолдах: 1.77 %\n",
            "MAPE на валидационных фолдах: 2.67 %\n"
          ]
        }
      ],
      "source": [
        "X = data.drop(['Prod', 'Perm', 'TOC', 'Well'], axis=1)\n",
        "y = data['Prod'].values\n",
        "# инициализируем стандартизатор StandardScaler\n",
        "scaler = StandardScaler()\n",
        "# подгоняем параметры стандартизатора (вычисляем среднее и СКО)\n",
        "X = scaler.fit_transform(X)\n",
        "# добавляем полиномиальные признаки\n",
        "poly = PolynomialFeatures(degree=3, include_bias=False)\n",
        "X = poly.fit_transform(X)\n",
        "#Задаем список параметров регулязации\n",
        "param_distributions = {'alpha': list(np.linspace(0.01, 0.1, 1000, dtype=float))},\n",
        "            \n",
        "random_search = RandomizedSearchCV(\n",
        "    # создаём модель линейной регрессии c L2-регуляризацией\n",
        "    estimator= Ridge(solver = 'svd'), \n",
        "    param_distributions=param_distributions, \n",
        "    cv=5, \n",
        "    n_iter = 10, \n",
        "    n_jobs = -1\n",
        ")  \n",
        "\n",
        "%time random_search.fit(X, y) \n",
        "print(\"Наилучшие значения гиперпараметров: {}\".format(random_search.best_params_))\n",
        "cv_results = cross_validate(random_search, X, y, scoring='neg_mean_absolute_percentage_error', cv=5, return_train_score=True)\n",
        "print('MAPE на тренировочных фолдах: {:.2f} %'.format(-cv_results['train_score'].mean()* 100))\n",
        "print('MAPE на валидационных фолдах: {:.2f} %'.format(-cv_results['test_score'].mean() * 100))"
      ]
    },
    {
      "cell_type": "code",
      "execution_count": 552,
      "id": "d1ee95d9",
      "metadata": {},
      "outputs": [],
      "source": [
        "result_df.loc[ len(result_df.index )] = ['Ridge', -cv_results['train_score'].mean()* 100, -cv_results['test_score'].mean() * 100, 'alpha', 'True']"
      ]
    },
    {
      "cell_type": "markdown",
      "id": "dQBd7ny_GIi1",
      "metadata": {
        "id": "dQBd7ny_GIi1"
      },
      "source": [
        "С помощью RandomizedSearchCV были подобраны параметры alpha. Ошибка MAPE равна 2.67 % на валидационных фолдах и 1.77 % на тренировочных фолдах."
      ]
    },
    {
      "cell_type": "markdown",
      "id": "86pXnWE7-5ch",
      "metadata": {
        "id": "86pXnWE7-5ch"
      },
      "source": [
        "**Критерии оценивания:**\n",
        "\n",
        "- Задание выполнено верно, учтены все условия (**2 балла**): \n",
        "    * правильно построена модель полиномиальной регрессии (линейной регрессии на полиномиальных признаках) с регуляризацией (Ridge), учтены условия необходимости масштабирования факторов для построения модели;\n",
        "    * приведён код для подбора параметра регуляризации (вручную или с помощью библиотечных инструментов);\n",
        "    * с помощью кросс-валидации оценено среднее значение выбранной студентом метрики (или метрик) на тренировочных и валидационных фолдах (метрика должна быть выбрана корректно).\n",
        "\n",
        "- Задание выполнено верно, но не учтено одно из условий (**1 балл**).\n",
        "- Задание выполнено неверно, не учтено несколько условий (**0 баллов**)."
      ]
    },
    {
      "cell_type": "markdown",
      "id": "7ad85b78",
      "metadata": {
        "id": "7ad85b78"
      },
      "source": [
        "### Задание 8.4. (2 балла)\n",
        "\n",
        "Наконец, настало время комбинировать $L_1$ и $L_2$ -регуляризации.\n",
        "\n",
        "Обучите модель `ElasticNet` из библиотеки `sklearn` на полученных полиномиальных факторах, предварительно стандартизировав факторы. \n",
        "\n",
        "Коэффициенты регуляризации (`alpha` и `l1-ratio`) подберите самостоятельно с помощью любого известного вам метода подбора гиперпаметров.\n",
        "\n",
        "Используя кросс-валидацию, оцените среднее значение метрики MAPE на тренировочных и валидационных фолдах.\n",
        "\n",
        "Проинтерпретируйте полученные результаты."
      ]
    },
    {
      "cell_type": "markdown",
      "id": "sy8ESceQ-__u",
      "metadata": {
        "id": "sy8ESceQ-__u"
      },
      "source": [
        "**Критерии оценивания:**\n",
        "\n",
        "- Задание выполнено верно, учтены все условия (**2 балла**): \n",
        "    * правильно построена модель полиномиальной регрессии (линейной регрессии на полиномиальных признаках) с регуляризацией (ElasticNet), учтены условия необходимости масштабирования факторов для построения модели;\n",
        "    * приведён код для подбора параметра регуляризации (вручную или с помощью библиотечных инструментов);\n",
        "    * с помощью кросс-валидации оценено среднее значение выбранной студентом метрики (или метрик) на тренировочных и валидационных фолдах (метрика должна быть выбрана корректно).\n",
        "\n",
        "- Задание выполнено верно, но не учтено одно из условий (**1 балл**).\n",
        "- Задание выполнено неверно, не учтено несколько условий (**0 баллов**)."
      ]
    },
    {
      "cell_type": "code",
      "execution_count": 553,
      "id": "-Yi3P20hQnLS",
      "metadata": {
        "id": "-Yi3P20hQnLS"
      },
      "outputs": [
        {
          "name": "stdout",
          "output_type": "stream",
          "text": [
            "CPU times: user 63.4 ms, sys: 4.13 ms, total: 67.6 ms\n",
            "Wall time: 79 ms\n",
            "Наилучшие значения гиперпараметров: {'l1_ratio': 0.9819819819819819, 'alpha': 0.19869869869869872}\n",
            "MAPE на тренировочных фолдах: 1.80 %\n",
            "MAPE на валидационных фолдах: 2.72 %\n"
          ]
        }
      ],
      "source": [
        "# выделяем интересующие нас факторы\n",
        "X = data.drop(['Prod', 'Perm', 'TOC', 'Well'], axis=1)\n",
        "y = data['Prod'].values\n",
        "# инициализируем стандартизатор StandardScaler\n",
        "scaler = StandardScaler()\n",
        "# подгоняем параметры стандартизатора (вычисляем среднее и СКО)\n",
        "X = scaler.fit_transform(X)\n",
        "# добавляем полиномиальные признаки\n",
        "poly = PolynomialFeatures(degree=3, include_bias=False)\n",
        "X = poly.fit_transform(X)\n",
        "\n",
        "#Задаем список параметров регулязации\n",
        "param_distributions = {'alpha': list(np.linspace(0.15, 0.2, 1000, dtype=float)),\n",
        "                      'l1_ratio':list(np.linspace(0.95, 1, 1000, dtype=float))},\n",
        "            \n",
        "random_search = RandomizedSearchCV(\n",
        "    # создаём модель линейной регрессии c L2-регуляризацией\n",
        "    estimator= ElasticNet(max_iter=10000), \n",
        "    param_distributions=param_distributions, \n",
        "    cv=5, \n",
        "    n_iter = 10, \n",
        "    n_jobs = -1\n",
        ")  \n",
        "\n",
        "%time random_search.fit(X, y) \n",
        "print(\"Наилучшие значения гиперпараметров: {}\".format(random_search.best_params_))\n",
        "cv_results = cross_validate(random_search, X, y, scoring='neg_mean_absolute_percentage_error', cv=5, return_train_score=True)\n",
        "print('MAPE на тренировочных фолдах: {:.2f} %'.format(-cv_results['train_score'].mean()* 100))\n",
        "print('MAPE на валидационных фолдах: {:.2f} %'.format(-cv_results['test_score'].mean() * 100)) "
      ]
    },
    {
      "cell_type": "code",
      "execution_count": 554,
      "id": "d6b86a67",
      "metadata": {},
      "outputs": [],
      "source": [
        "result_df.loc[ len(result_df.index )] = ['ElasticNet', -cv_results['train_score'].mean()* 100, -cv_results['test_score'].mean() * 100, 'alpha,l1_ratio', 'True']"
      ]
    },
    {
      "cell_type": "markdown",
      "id": "er2lAiE9QpAb",
      "metadata": {
        "id": "er2lAiE9QpAb"
      },
      "source": [
        "Подобраны значения гиперпараметров. MAPE на валидационных фолдах: 2.72 %. MAPE на тренировочных фолдах: 1.80 %."
      ]
    },
    {
      "cell_type": "markdown",
      "id": "91c6e1d1",
      "metadata": {
        "id": "91c6e1d1"
      },
      "source": [
        "### Задание 8.5. (1 балл)\n",
        "\n",
        "Завершением вашей работы будет сводная таблица результатов, которую вы представите на презентации заказчику Василию.\n",
        "\n",
        "Составьте таблицу (DataFrame) со следующими столбцами (имена столбцов выберите самостоятельно):\n",
        "* Наименование модели.\n",
        "* Гиперпараметры (коэффициенты регуляризации, если таковые имеются), если нет — оставьте ячейку пустой.\n",
        "* Использовались ли полиномиальные признаки при построении модели (Да/Нет или True/False).\n",
        "* Значение выбранной метрики на тренировочных фолдах при кросс-валидации модели.\n",
        "* Значение выбранной метрики на валидационных фолдах при кросс-валидации модели.\n",
        "\n",
        "Сделайте финальный вывод по проделанной работе. Какая линейная модель из тех, что мы рассмотрели, показала наилучший результат с точки зрения качества на валидационных фолдах, а также с точки зрения переобученности?"
      ]
    },
    {
      "cell_type": "markdown",
      "id": "OsFRaKkF_nLq",
      "metadata": {
        "id": "OsFRaKkF_nLq"
      },
      "source": [
        "**Критерии оценивания:**\n",
        "\n",
        "- Задание выполнено верно, учтены все условия (**1 балл**): \n",
        "    * верно составлена сводная таблица итоговых результатов построенных ранее моделей с указанными в задании столбцами;\n",
        "    * приведены итоговые выводы по проделанной работе, указано, какая из рассмотренных моделей показала наилучший результат.\n",
        "\n",
        "- Задание выполнено неверно, не учтено одно или несколько условий (**0 баллов**)."
      ]
    },
    {
      "cell_type": "code",
      "execution_count": 555,
      "id": "wRiys8lKQuqW",
      "metadata": {
        "id": "wRiys8lKQuqW"
      },
      "outputs": [
        {
          "name": "stdout",
          "output_type": "stream",
          "text": [
            "              Метод  MAPE на тренировочных фолдах %  \\\n",
            "0  LinearRegression                        1.773240   \n",
            "1             Lasso                        2.105344   \n",
            "2             Ridge                        1.772716   \n",
            "3        ElasticNet                        1.801778   \n",
            "\n",
            "   MAPE на валидационных фолдах %  Гиперпараметры Полиномиальные признаки  \n",
            "0                        2.680875                                    True  \n",
            "1                        2.455790           alpha                    True  \n",
            "2                        2.674685           alpha                    True  \n",
            "3                        2.720215  alpha,l1_ratio                    True  \n"
          ]
        }
      ],
      "source": [
        "print(result_df)"
      ]
    },
    {
      "cell_type": "markdown",
      "id": "UP7_LSoEQsrA",
      "metadata": {
        "id": "UP7_LSoEQsrA"
      },
      "source": [
        "По полученным данным, самая эффективный метод по ошибке MAPE на тренировочных фолдах - Ridge, а на валидационных фолдах самый эффективный метод - Lasso. Оба метода имеют один параметр регулязации - alpha и используют полиномиальные признаки. Мною был выбран метод поиска гиперпараметров RandomizedSearchCV, в связи с чем, значения могут меняться в соответствии с изменением гиперпараметров. Однако стабильно лучший результат на представленных данных показывает модель Lasso."
      ]
    }
  ],
  "metadata": {
    "colab": {
      "provenance": []
    },
    "kernelspec": {
      "display_name": "Python 3.9.6 64-bit",
      "language": "python",
      "name": "python3"
    },
    "language_info": {
      "codemirror_mode": {
        "name": "ipython",
        "version": 3
      },
      "file_extension": ".py",
      "mimetype": "text/x-python",
      "name": "python",
      "nbconvert_exporter": "python",
      "pygments_lexer": "ipython3",
      "version": "3.9.6"
    },
    "vscode": {
      "interpreter": {
        "hash": "31f2aee4e71d21fbe5cf8b01ff0e069b9275f58929596ceb00d14d90e3e16cd6"
      }
    }
  },
  "nbformat": 4,
  "nbformat_minor": 5
}
